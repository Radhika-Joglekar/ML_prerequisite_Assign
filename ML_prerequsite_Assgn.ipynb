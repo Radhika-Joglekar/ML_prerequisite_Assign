{
  "nbformat": 4,
  "nbformat_minor": 0,
  "metadata": {
    "colab": {
      "provenance": [],
      "authorship_tag": "ABX9TyN701kOFx6J6CTWeP4lg/AA",
      "include_colab_link": true
    },
    "kernelspec": {
      "name": "python3",
      "display_name": "Python 3"
    },
    "language_info": {
      "name": "python"
    }
  },
  "cells": [
    {
      "cell_type": "markdown",
      "metadata": {
        "id": "view-in-github",
        "colab_type": "text"
      },
      "source": [
        "<a href=\"https://colab.research.google.com/github/Radhika-Joglekar/ML_prerequisite_Assign/blob/main/ML_prerequsite_Assgn.ipynb\" target=\"_parent\"><img src=\"https://colab.research.google.com/assets/colab-badge.svg\" alt=\"Open In Colab\"/></a>"
      ]
    },
    {
      "cell_type": "markdown",
      "source": [
        "1. Number of multiplications needed to perform in matrix multiplication between a (n, k) and (k, m) matrix is n* k* m. Similaly number of additions is equal to n* (k - 1)* **m**.\n"
      ],
      "metadata": {
        "id": "bBPwYjmFY8zf"
      }
    },
    {
      "cell_type": "markdown",
      "source": [
        "2. Without numpy\n"
      ],
      "metadata": {
        "id": "kUa2H7dGetFu"
      }
    },
    {
      "cell_type": "code",
      "execution_count": 9,
      "metadata": {
        "colab": {
          "base_uri": "https://localhost:8080/"
        },
        "id": "gxkajuktY1WP",
        "outputId": "973a9d38-40b2-4b10-f802-6ea219e1501e"
      },
      "outputs": [
        {
          "output_type": "stream",
          "name": "stdout",
          "text": [
            "Enter the number of rows:2\n",
            "Enter the number of columns:2\n",
            "Enter the entries rowwise:\n",
            "1\n",
            "0\n",
            "0\n",
            "1\n",
            "1 0 \n",
            "0 1 \n",
            "Enter the number of rows:2\n",
            "Enter the number of columns:2\n",
            "Enter the entries rowwise:\n",
            "1\n",
            "0\n",
            "0\n",
            "1\n",
            "1 0 \n",
            "0 1 \n",
            "[1, 0]\n",
            "[0, 1]\n",
            "[2.05039978e-05 2.16960907e-05 4.52995300e-06 4.29153442e-06\n",
            " 4.52995300e-06 4.52995300e-06 4.29153442e-06 4.52995300e-06\n",
            " 4.29153442e-06 4.29153442e-06 4.29153442e-06 4.52995300e-06\n",
            " 4.29153442e-06 4.29153442e-06 4.76837158e-06 4.29153442e-06\n",
            " 4.29153442e-06 4.52995300e-06 4.29153442e-06 4.76837158e-06\n",
            " 4.05311584e-06 4.29153442e-06 4.05311584e-06 4.29153442e-06\n",
            " 4.76837158e-06 4.52995300e-06 4.52995300e-06 4.05311584e-06\n",
            " 4.52995300e-06 4.76837158e-06 4.29153442e-06 4.76837158e-06\n",
            " 4.29153442e-06 4.29153442e-06 4.52995300e-06 4.05311584e-06\n",
            " 4.52995300e-06 4.52995300e-06 4.05311584e-06 4.52995300e-06\n",
            " 4.05311584e-06 4.29153442e-06 4.52995300e-06 4.05311584e-06\n",
            " 4.29153442e-06 4.05311584e-06 4.52995300e-06 4.05311584e-06\n",
            " 4.52995300e-06 6.34193420e-05 6.91413879e-06 5.96046448e-06\n",
            " 6.19888306e-06 6.67572021e-06 6.91413879e-06 6.43730164e-06\n",
            " 8.10623169e-06 3.07559967e-05 7.86781311e-06 8.58306885e-06\n",
            " 7.86781311e-06 8.10623169e-06 7.86781311e-06 8.10623169e-06\n",
            " 8.10623169e-06 8.34465027e-06 7.86781311e-06 8.10623169e-06\n",
            " 7.86781311e-06 8.10623169e-06 1.17301941e-04 9.77516174e-06\n",
            " 8.10623169e-06 7.39097595e-06 8.10623169e-06 7.15255737e-06\n",
            " 6.43730164e-06 5.96046448e-06 5.72204590e-06 6.91413879e-06\n",
            " 6.19888306e-06 7.62939453e-06 7.62939453e-06 8.10623169e-06\n",
            " 8.34465027e-06 9.77516174e-06 8.10623169e-06 8.10623169e-06\n",
            " 8.34465027e-06 7.39097595e-06 6.91413879e-06 6.67572021e-06\n",
            " 6.43730164e-06 6.19888306e-06 6.67572021e-06 7.15255737e-06\n",
            " 7.39097595e-06 7.15255737e-06 7.39097595e-06 6.43730164e-06]\n",
            "std of arr :  1.2864703107172938e-05\n"
          ]
        }
      ],
      "source": [
        "import time \n",
        "import numpy as np\n",
        "\n",
        "R1 = int(input(\"Enter the number of rows:\"))\n",
        "C1 = int(input(\"Enter the number of columns:\"))\n",
        "  \n",
        "\n",
        "X = []\n",
        "print(\"Enter the entries rowwise:\")\n",
        "\n",
        "for i in range(R1):          \n",
        "    a =[]\n",
        "    for j in range(C1):      \n",
        "         a.append(int(input()))\n",
        "    X.append(a)\n",
        "  \n",
        "\n",
        "for i in range(R1):\n",
        "    for j in range(C1):\n",
        "        print(X[i][j], end = \" \")\n",
        "    print()\n",
        "\n",
        "R2 = int(input(\"Enter the number of rows:\"))\n",
        "C2 = int(input(\"Enter the number of columns:\"))\n",
        "if C1==R2:\n",
        "   \n",
        "   Y = []\n",
        "   print(\"Enter the entries rowwise:\")\n",
        "  \n",
        "   \n",
        "   for k in range(R2):          \n",
        "    b =[]\n",
        "    for m in range(C2):      \n",
        "         b.append(int(input()))\n",
        "    Y.append(b)\n",
        "  \n",
        "    \n",
        "   for k in range(R2):\n",
        "    for m in range(C2):\n",
        "        print(Y[k][m], end = \" \")\n",
        "    print()\n",
        "  \n",
        "   t = []\n",
        "   for u in range (100):\n",
        "     start = time.time()\n",
        "     result = [[sum(x*y for x,y in zip(X_row,Y_col)) for Y_col in zip(*Y)] for X_row in X]\n",
        "     end = time.time()\n",
        "     t.append(end-start)    \n",
        "   for r in result:\n",
        "      print(r)\n",
        "        \n",
        "      \n",
        "else:\n",
        "  print(\"Matrix Multiplication cant be performed: Dimension mismatch\")\n",
        "arr = np.array(t)\n",
        "print(arr)\n",
        "print(\"std of arr : \", np.std(arr))\n",
        "\n",
        "\n",
        "\n"
      ]
    },
    {
      "cell_type": "markdown",
      "source": [
        "2. with numpy\n"
      ],
      "metadata": {
        "id": "oPKPkTMFGDOo"
      }
    },
    {
      "cell_type": "code",
      "source": [
        "import time \n",
        "import numpy as np\n",
        "\n",
        "R1 = int(input(\"Enter the number of rows:\"))\n",
        "C1 = int(input(\"Enter the number of columns:\"))\n",
        "  \n",
        "\n",
        "X = []\n",
        "print(\"Enter the entries rowwise:\")\n",
        "  \n",
        "\n",
        "for i in range(R1):          \n",
        "    a =[]\n",
        "    for j in range(C1):      \n",
        "         a.append(int(input()))\n",
        "    X.append(a)\n",
        "  \n",
        "\n",
        "for i in range(R1):\n",
        "    for j in range(C1):\n",
        "        print(X[i][j], end = \" \")\n",
        "    print()\n",
        "\n",
        "R2 = int(input(\"Enter the number of rows:\"))\n",
        "C2 = int(input(\"Enter the number of columns:\"))\n",
        "if C1==R2:\n",
        "   \n",
        "   Y = []\n",
        "   print(\"Enter the entries rowwise:\")\n",
        "  \n",
        "   \n",
        "   for k in range(R2):          \n",
        "    b =[]\n",
        "    for m in range(C2):      \n",
        "         b.append(int(input()))\n",
        "    Y.append(b)\n",
        "  \n",
        "    \n",
        "   for k in range(R2):\n",
        "    for m in range(C2):\n",
        "        print(Y[k][m], end = \" \")\n",
        "    print()\n",
        "   t = []\n",
        "   for u in range (100):\n",
        "    start = time.time()\n",
        "    result = np.matmul(X,Y)\n",
        "    end = time.time()\n",
        "    t.append(end-start)  \n",
        "   print(result)\n",
        "else:\n",
        "  print(\"Matrix Multiplication cant be performed: Dimension mismatch\")\n",
        "arr = np.array(t)\n",
        "print(arr)\n",
        "print(\"std of arr : \", np.std(arr))"
      ],
      "metadata": {
        "colab": {
          "base_uri": "https://localhost:8080/"
        },
        "id": "3r_vumem5nSm",
        "outputId": "d1734f22-a750-4893-f27d-e300861f5cd4"
      },
      "execution_count": 10,
      "outputs": [
        {
          "output_type": "stream",
          "name": "stdout",
          "text": [
            "Enter the number of rows:2\n",
            "Enter the number of columns:2\n",
            "Enter the entries rowwise:\n",
            "1\n",
            "0\n",
            "0\n",
            "1\n",
            "1 0 \n",
            "0 1 \n",
            "Enter the number of rows:2\n",
            "Enter the number of columns:2\n",
            "Enter the entries rowwise:\n",
            "1\n",
            "0\n",
            "0\n",
            "1\n",
            "1 0 \n",
            "0 1 \n",
            "[[1 0]\n",
            " [0 1]]\n",
            "[6.31809235e-05 1.19209290e-05 9.53674316e-06 1.02519989e-05\n",
            " 1.07288361e-05 1.07288361e-05 1.04904175e-05 1.04904175e-05\n",
            " 1.02519989e-05 1.04904175e-05 1.00135803e-05 1.02519989e-05\n",
            " 1.02519989e-05 1.00135803e-05 1.02519989e-05 1.00135803e-05\n",
            " 2.16960907e-05 1.02519989e-05 1.00135803e-05 1.02519989e-05\n",
            " 1.02519989e-05 1.00135803e-05 9.77516174e-06 1.02519989e-05\n",
            " 1.00135803e-05 1.02519989e-05 1.02519989e-05 1.00135803e-05\n",
            " 1.04904175e-05 1.00135803e-05 1.02519989e-05 1.02519989e-05\n",
            " 9.77516174e-06 1.02519989e-05 1.00135803e-05 1.02519989e-05\n",
            " 1.02519989e-05 1.00135803e-05 1.02519989e-05 1.00135803e-05\n",
            " 1.02519989e-05 1.02519989e-05 9.29832458e-06 1.04904175e-05\n",
            " 1.02519989e-05 9.77516174e-06 1.04904175e-05 1.02519989e-05\n",
            " 1.02519989e-05 9.77516174e-06 9.53674316e-06 1.00135803e-05\n",
            " 9.77516174e-06 9.53674316e-06 1.00135803e-05 1.00135803e-05\n",
            " 9.77516174e-06 9.77516174e-06 9.77516174e-06 9.53674316e-06\n",
            " 9.53674316e-06 9.77516174e-06 1.02519989e-05 1.02519989e-05\n",
            " 3.33786011e-05 9.77516174e-06 9.29832458e-06 9.29832458e-06\n",
            " 9.53674316e-06 9.53674316e-06 9.53674316e-06 9.53674316e-06\n",
            " 9.53674316e-06 9.53674316e-06 9.53674316e-06 9.77516174e-06\n",
            " 1.00135803e-05 9.29832458e-06 9.77516174e-06 9.53674316e-06\n",
            " 9.53674316e-06 9.53674316e-06 9.77516174e-06 9.29832458e-06\n",
            " 9.29832458e-06 9.53674316e-06 9.29832458e-06 9.53674316e-06\n",
            " 9.53674316e-06 1.02519989e-05 9.53674316e-06 9.53674316e-06\n",
            " 9.53674316e-06 1.02519989e-05 9.53674316e-06 9.29832458e-06\n",
            " 9.77516174e-06 9.53674316e-06 9.53674316e-06 9.53674316e-06]\n",
            "std of arr :  5.885435908075539e-06\n"
          ]
        }
      ]
    },
    {
      "cell_type": "markdown",
      "source": [
        "\n",
        "*  The execution time for method without numpy is 1.2864703107172938e-05\n",
        "*  The execution time for method with numpy is 5.885435908075539e-06\n",
        "\n",
        "\n",
        "  \n",
        "Thus method with numpy requires less time."
      ],
      "metadata": {
        "id": "uYlsWEi7DuRR"
      }
    },
    {
      "cell_type": "markdown",
      "source": [
        "3. With sort function"
      ],
      "metadata": {
        "id": "R4kboM8sEgMs"
      }
    },
    {
      "cell_type": "code",
      "source": [
        "import time\n",
        "test_list = [10, 25, 6, 55, 0, 89, 5, 3, 47]\n",
        "  \n",
        "\n",
        "print(\"The original list : \" + str(test_list))\n",
        "  \n",
        "start = time.time()\n",
        "test_list.sort()\n",
        "mid = len(test_list) // 2\n",
        "res = (test_list[mid] + test_list[~mid]) / 2\n",
        "end = time.time()\n",
        "  \n",
        "\n",
        "print(\"Median of list is : \" + str(res))\n",
        "print(end-start)"
      ],
      "metadata": {
        "colab": {
          "base_uri": "https://localhost:8080/"
        },
        "id": "9jk85bOZECnL",
        "outputId": "7fb7b58e-a512-4459-9a1d-287add007ff4"
      },
      "execution_count": 16,
      "outputs": [
        {
          "output_type": "stream",
          "name": "stdout",
          "text": [
            "The original list : [10, 25, 6, 55, 0, 89, 5, 3, 47]\n",
            "Median of list is : 10.0\n",
            "0.0002219676971435547\n"
          ]
        }
      ]
    },
    {
      "cell_type": "markdown",
      "source": [
        "3. without Sort\n"
      ],
      "metadata": {
        "id": "NBZyvkADGZIS"
      }
    },
    {
      "cell_type": "code",
      "source": [
        "import time\n",
        "arr = [10, 25, 6, 55, 0, 89, 5, 3, 47];     \n",
        "temp = 0;    \n",
        "     \n",
        "\n",
        "print(\"Elements of original array: \");    \n",
        "for i in range(0, len(arr)):    \n",
        "    print(arr[i], end=\" \");    \n",
        "     \n",
        "start = time.time()\n",
        "for i in range(0, len(arr)):    \n",
        "    for j in range(i+1, len(arr)):    \n",
        "        if(arr[i] > arr[j]):    \n",
        "            temp = arr[i];    \n",
        "            arr[i] = arr[j];    \n",
        "            arr[j] = temp;    \n",
        "     \n",
        "print();    \n",
        "     \n",
        "   \n",
        "    \n",
        "print(\"Elements of array sorted in ascending order: \");    \n",
        "for i in range(0, len(arr)):    \n",
        "    print(arr[i], end=\" \");    \n",
        "\n",
        "\n",
        "mid = len(arr) // 2\n",
        "res = (arr[mid] + arr[~mid]) / 2\n",
        "end = time.time() \n",
        "\n",
        "print(\"Median of list is : \" + str(res))\n",
        "print(end-start)\n"
      ],
      "metadata": {
        "colab": {
          "base_uri": "https://localhost:8080/"
        },
        "id": "X10V5Q75GeSF",
        "outputId": "1b20d401-e92d-487f-e222-809ef4250409"
      },
      "execution_count": 15,
      "outputs": [
        {
          "output_type": "stream",
          "name": "stdout",
          "text": [
            "Elements of original array: \n",
            "10 25 6 55 0 89 5 3 47 \n",
            "Elements of array sorted in ascending order: \n",
            "0 3 5 6 10 25 47 55 89 Median of list is : 10.0\n",
            "0.0007941722869873047\n"
          ]
        }
      ]
    },
    {
      "cell_type": "markdown",
      "source": [
        "3. With Numpy\n"
      ],
      "metadata": {
        "id": "By5q3UcpKWbX"
      }
    },
    {
      "cell_type": "code",
      "source": [
        "import numpy as np\n",
        "import time \n",
        "arr = [10, 25, 6, 55, 0, 89, 5, 3, 47]\n",
        "  \n",
        "print(\"arr : \", arr) \n",
        "start = time.time()\n",
        "print(\"median of arr : \", np.median(arr))\n",
        "end = time.time()\n",
        "t = end -start\n",
        "print(t)"
      ],
      "metadata": {
        "colab": {
          "base_uri": "https://localhost:8080/"
        },
        "id": "-c3bCsVvKabG",
        "outputId": "9e014876-ee49-48ee-9282-de10d9bf5386"
      },
      "execution_count": 14,
      "outputs": [
        {
          "output_type": "stream",
          "name": "stdout",
          "text": [
            "arr :  [10, 25, 6, 55, 0, 89, 5, 3, 47]\n",
            "median of arr :  10.0\n",
            "0.0009236335754394531\n"
          ]
        }
      ]
    },
    {
      "cell_type": "markdown",
      "source": [
        "\n",
        "\n",
        "*   Time of execution with sort 0.0002219676971435547\n",
        "*   Time of execution without sort 0.0007941722869873047\n",
        "*   Time of execution with numpy 0.0009236335754394531\n",
        "\n",
        "\n"
      ],
      "metadata": {
        "id": "4uaIwpbPIX7c"
      }
    },
    {
      "cell_type": "markdown",
      "source": [
        "4. $\\frac{\\delta(x^2y + y^3sin(x))}{\\delta x} + \\frac{\\delta(x^2y + y^3sin(x))}{\\delta y}$\n",
        "\n",
        "$(2xy + y^3cos(x)) \\hat{i} + (x^2 + 3y^2sin(x))\\hat{j}$"
      ],
      "metadata": {
        "id": "iAUlgY0RHGOc"
      }
    },
    {
      "cell_type": "markdown",
      "source": [
        "5."
      ],
      "metadata": {
        "id": "31bkRZYrIS9w"
      }
    },
    {
      "cell_type": "code",
      "source": [
        "!pip install sympy"
      ],
      "metadata": {
        "colab": {
          "base_uri": "https://localhost:8080/"
        },
        "id": "gZ42GzBzIUad",
        "outputId": "f8e2c0ee-36ec-479e-998b-eaabab3cebfd"
      },
      "execution_count": 1,
      "outputs": [
        {
          "output_type": "stream",
          "name": "stdout",
          "text": [
            "Looking in indexes: https://pypi.org/simple, https://us-python.pkg.dev/colab-wheels/public/simple/\n",
            "Requirement already satisfied: sympy in /usr/local/lib/python3.8/dist-packages (1.7.1)\n",
            "Requirement already satisfied: mpmath>=0.19 in /usr/local/lib/python3.8/dist-packages (from sympy) (1.2.1)\n"
          ]
        }
      ]
    },
    {
      "cell_type": "code",
      "source": [
        "import jax \n",
        "def fun(x,y):\n",
        "    return((x**2)*y+(y**3)*jax.numpy.sin(x))\n",
        "def fun_grad(x,y):\n",
        "    ans = [2*x*y+(y**3)*jax.numpy.cos(x), x**2+ 3*(y**2)*jax.numpy.sin(x)]\n",
        "    return jax.numpy.array(ans)\n",
        "jax_grad = jax.grad(fun,(0,1))\n",
        "print(\"function(pi,3.0):{0}\".format(fun(jax.numpy.pi,3.0)))\n",
        "print(\"gradient using explicit gradient function: {0}\".format(fun_grad(jax.numpy.pi,3.0)))\n",
        "print(\"gradient using jax: {0}\".format(jax_grad(jax.numpy.pi,3.0)))"
      ],
      "metadata": {
        "colab": {
          "base_uri": "https://localhost:8080/"
        },
        "id": "hbOFmEbuIqYM",
        "outputId": "5a9634b9-f6d3-4795-ea6f-00898787b226"
      },
      "execution_count": 21,
      "outputs": [
        {
          "output_type": "stream",
          "name": "stdout",
          "text": [
            "function(pi,3.0):29.608810424804688\n",
            "gradient using explicit gradient function: [-8.150444  9.869602]\n",
            "gradient using jax: (DeviceArray(-8.150444, dtype=float32, weak_type=True), DeviceArray(9.869603, dtype=float32, weak_type=True))\n"
          ]
        }
      ]
    },
    {
      "cell_type": "markdown",
      "source": [
        "6."
      ],
      "metadata": {
        "id": "rPR3yJUQJKtQ"
      }
    },
    {
      "cell_type": "code",
      "source": [
        "from sympy import *\n",
        "x, y = symbols('x y')\n",
        "init_printing(use_unicode=True)\n",
        "\n",
        "diff( ((x**2)*y) + ((y**3)*sin(x)), y)"
      ],
      "metadata": {
        "colab": {
          "base_uri": "https://localhost:8080/",
          "height": 39
        },
        "id": "xcXD9JUrJL0V",
        "outputId": "90e96b31-dfb6-4bb9-dbfd-2b5013d1f74e"
      },
      "execution_count": 3,
      "outputs": [
        {
          "output_type": "execute_result",
          "data": {
            "text/plain": [
              " 2      2       \n",
              "x  + 3⋅y ⋅sin(x)"
            ],
            "image/png": "[encoded data removed]",
            "text/latex": "$\\displaystyle x^{2} + 3 y^{2} \\sin{\\left(x \\right)}$"
          },
          "metadata": {},
          "execution_count": 3
        }
      ]
    },
    {
      "cell_type": "code",
      "source": [
        "diff( ((x**2)*y) + ((y**3)*sin(x)), x)"
      ],
      "metadata": {
        "colab": {
          "base_uri": "https://localhost:8080/",
          "height": 39
        },
        "id": "y6-5Yx6VJj9j",
        "outputId": "ca2a594e-ad6f-41db-e4bf-dae7f3752474"
      },
      "execution_count": 4,
      "outputs": [
        {
          "output_type": "execute_result",
          "data": {
            "text/plain": [
              "         3       \n",
              "2⋅x⋅y + y ⋅cos(x)"
            ],
            "image/png": "[encoded data removed]",
            "text/latex": "$\\displaystyle 2 x y + y^{3} \\cos{\\left(x \\right)}$"
          },
          "metadata": {},
          "execution_count": 4
        }
      ]
    },
    {
      "cell_type": "markdown",
      "source": [
        "7. Nested Dictionary\n"
      ],
      "metadata": {
        "id": "h3dU_aGnM8Zr"
      }
    },
    {
      "cell_type": "code",
      "source": [
        "D = {2022:{'Branch 1':{'Roll No':1, 'Name':'Ram', 'Marks':{'English':70, 'Maths':100}}, \n",
        "           'Branch 2':{'Roll No':1, 'Name':'Sam', 'Marks':{'English':70, 'Maths':100}}},\n",
        "     2023:{'Branch 1':{'Roll No':1, 'Name':'Ram', 'Marks':{'English':70, 'Maths':60}}, \n",
        "           'Branch 2':{'Roll No':2, 'Name':'Sam', 'Marks':{'English':70, 'Maths':100}}},\n",
        "     2024:{'Branch 1':{'Roll No':1, 'Name':'Ram', 'Marks':{'English':80, 'Maths':100}}, \n",
        "           'Branch 2':{'Roll No':1, 'Name':'Sam', 'Marks':{'English':20, 'Maths':100}}},\n",
        "     2025:{'Branch 1':{'Roll No':1, 'Name':'Ram', 'Marks':{'English':100, 'Maths':100}}, \n",
        "           'Branch 2':{'Roll No':4, 'Name':'Sam', 'Marks':{'English':70, 'Maths':100}}}}"
      ],
      "metadata": {
        "id": "qXz-FvGDfDOH"
      },
      "execution_count": null,
      "outputs": []
    },
    {
      "cell_type": "markdown",
      "source": [
        "8. Python Classes"
      ],
      "metadata": {
        "id": "W6wzRH0Wi6R2"
      }
    },
    {
      "cell_type": "code",
      "source": [
        "class student:\n",
        "    def details(self,roll_no,name,marks,subjects):\n",
        "        self.roll_no = roll_no\n",
        "        self.name = name\n",
        "        self.marks = marks\n",
        "        self.subjects = subjects\n",
        "class branch(student):\n",
        "    def branches(self,branch):\n",
        "        self.branch= branch\n",
        "class years(branch):\n",
        "    def year(self,year):\n",
        "        self.year = year\n",
        "def main():\n",
        "    a = years()\n",
        "    a.year('2022')\n",
        "    a.branches('1')\n",
        "    a.details('22310030','Radhika','80','Maths')\n",
        "    print(a.year,a.branch,a.roll_no,a.name,a.marks,a.subjects)\n",
        "if __name__ == \"__main__\":\n",
        "    main()  \n",
        "\n",
        "  \n",
        "   "
      ],
      "metadata": {
        "id": "VWL_qa3hi9EG",
        "colab": {
          "base_uri": "https://localhost:8080/"
        },
        "outputId": "73e72e5d-2038-4c6d-c0e1-a403b7a17a5d"
      },
      "execution_count": 27,
      "outputs": [
        {
          "output_type": "stream",
          "name": "stdout",
          "text": [
            "2022 1 22310030 Radhika 80 Maths\n"
          ]
        }
      ]
    },
    {
      "cell_type": "markdown",
      "source": [
        "9. Plots\n"
      ],
      "metadata": {
        "id": "tjNBCkpF_hN4"
      }
    },
    {
      "cell_type": "code",
      "source": [
        "import matplotlib.pyplot as plt\n",
        "import numpy as np\n",
        "x = np.linspace(0.5, 100, 200)\n",
        "y = x\n",
        " \n",
        "fig = plt.figure(figsize = (10, 5))\n",
        "# Create the plot\n",
        "plt.plot(x, y)\n",
        " \n",
        "# Show the plot\n",
        "plt.show()\n",
        "\n"
      ],
      "metadata": {
        "colab": {
          "base_uri": "https://localhost:8080/",
          "height": 320
        },
        "id": "QWClywko_jUb",
        "outputId": "d425e885-5b25-4f48-9a96-34a86f47e330"
      },
      "execution_count": null,
      "outputs": [
        {
          "output_type": "display_data",
          "data": {
            "text/plain": [
              "<Figure size 720x360 with 1 Axes>"
            ],
            "image/png": "[encoded data removed]"
          },
          "metadata": {
            "needs_background": "light"
          }
        }
      ]
    },
    {
      "cell_type": "code",
      "source": [
        "import matplotlib.pyplot as plt\n",
        "import numpy as np\n",
        "x = np.linspace(0.5, 100, 200)\n",
        "y = x ** 2\n",
        " \n",
        "fig = plt.figure(figsize = (10, 5))\n",
        "# Create the plot\n",
        "plt.plot(x, y)\n",
        " \n",
        "# Show the plot\n",
        "plt.show()"
      ],
      "metadata": {
        "colab": {
          "base_uri": "https://localhost:8080/",
          "height": 320
        },
        "id": "bKJKdNLyA8ds",
        "outputId": "2803c901-7cb2-4b2a-b278-ed4bb9ec8c39"
      },
      "execution_count": null,
      "outputs": [
        {
          "output_type": "display_data",
          "data": {
            "text/plain": [
              "<Figure size 720x360 with 1 Axes>"
            ],
            "image/png": "[encoded data removed]"
          },
          "metadata": {
            "needs_background": "light"
          }
        }
      ]
    },
    {
      "cell_type": "code",
      "source": [
        "import matplotlib.pyplot as plt\n",
        "import numpy as np\n",
        "x = np.linspace(0.5, 100, 200)\n",
        "y = (x ** 3)/100\n",
        " \n",
        "fig = plt.figure(figsize = (10, 5))\n",
        "# Create the plot\n",
        "plt.plot(x, y)\n",
        " \n",
        "# Show the plot\n",
        "plt.show()"
      ],
      "metadata": {
        "colab": {
          "base_uri": "https://localhost:8080/",
          "height": 320
        },
        "id": "jn6nDaQ_BENK",
        "outputId": "bc2fe6b6-35c4-4f8f-f339-c2fa9d50a3e1"
      },
      "execution_count": null,
      "outputs": [
        {
          "output_type": "display_data",
          "data": {
            "text/plain": [
              "<Figure size 720x360 with 1 Axes>"
            ],
            "image/png": "[encoded data removed]"
          },
          "metadata": {
            "needs_background": "light"
          }
        }
      ]
    },
    {
      "cell_type": "code",
      "source": [
        "import matplotlib.pyplot as plt\n",
        "import numpy as np\n",
        "\n",
        "x = np.linspace(0.5, 100, 200)\n",
        "y = np.sin(x)\n",
        " \n",
        "fig = plt.figure(figsize = (10, 5))\n",
        "# Create the plot\n",
        "plt.plot(x, y)\n",
        " \n",
        "# Show the plot\n",
        "plt.show()"
      ],
      "metadata": {
        "colab": {
          "base_uri": "https://localhost:8080/",
          "height": 320
        },
        "id": "Z3JVhIOnBSO8",
        "outputId": "c9400b43-88bb-47ef-aabc-4ad144203fd8"
      },
      "execution_count": null,
      "outputs": [
        {
          "output_type": "display_data",
          "data": {
            "text/plain": [
              "<Figure size 720x360 with 1 Axes>"
            ],
            "image/png": "[encoded data removed]"
          },
          "metadata": {
            "needs_background": "light"
          }
        }
      ]
    },
    {
      "cell_type": "code",
      "source": [
        "import matplotlib.pyplot as plt\n",
        "import numpy as np\n",
        "x = np.linspace(0.5, 100, 200)\n",
        "y = (np.sin(x))/x\n",
        " \n",
        "fig = plt.figure(figsize = (10, 5))\n",
        "# Create the plot\n",
        "plt.plot(x, y)\n",
        " \n",
        "# Show the plot\n",
        "plt.show()"
      ],
      "metadata": {
        "colab": {
          "base_uri": "https://localhost:8080/",
          "height": 320
        },
        "id": "E4-tE0FcCCoY",
        "outputId": "694ce357-33eb-4491-a97e-6c852d880cfd"
      },
      "execution_count": null,
      "outputs": [
        {
          "output_type": "display_data",
          "data": {
            "text/plain": [
              "<Figure size 720x360 with 1 Axes>"
            ],
            "image/png": "[encoded data removed]"
          },
          "metadata": {
            "needs_background": "light"
          }
        }
      ]
    },
    {
      "cell_type": "code",
      "source": [
        "import matplotlib.pyplot as plt\n",
        "import numpy as np\n",
        "x = np.linspace(0.5, 100, 200)\n",
        "y = np.log(x)\n",
        " \n",
        "fig = plt.figure(figsize = (10, 5))\n",
        "# Create the plot\n",
        "plt.plot(x, y)\n",
        " \n",
        "# Show the plot\n",
        "plt.show()"
      ],
      "metadata": {
        "colab": {
          "base_uri": "https://localhost:8080/",
          "height": 320
        },
        "id": "G9dWatBWCJSL",
        "outputId": "eba42819-970a-466b-80e5-43934a22d5ad"
      },
      "execution_count": null,
      "outputs": [
        {
          "output_type": "display_data",
          "data": {
            "text/plain": [
              "<Figure size 720x360 with 1 Axes>"
            ],
            "image/png": "[encoded data removed]"
          },
          "metadata": {
            "needs_background": "light"
          }
        }
      ]
    },
    {
      "cell_type": "code",
      "source": [
        "import matplotlib.pyplot as plt\n",
        "import numpy as np\n",
        "x = np.linspace(0.5, 100, 200)\n",
        "y = np.exp(x)\n",
        " \n",
        "fig = plt.figure(figsize = (10, 5))\n",
        "# Create the plot\n",
        "plt.plot(x, y)\n",
        " \n",
        "# Show the plot\n",
        "plt.show()"
      ],
      "metadata": {
        "colab": {
          "base_uri": "https://localhost:8080/",
          "height": 331
        },
        "id": "rt_Ng3LGCbza",
        "outputId": "42624fdc-f294-4774-c97d-c12173ef5974"
      },
      "execution_count": null,
      "outputs": [
        {
          "output_type": "display_data",
          "data": {
            "text/plain": [
              "<Figure size 720x360 with 1 Axes>"
            ],
            "image/png": "[encoded data removed]"
          },
          "metadata": {
            "needs_background": "light"
          }
        }
      ]
    },
    {
      "cell_type": "markdown",
      "source": [
        "10."
      ],
      "metadata": {
        "id": "djwXkf_HJ8wb"
      }
    },
    {
      "cell_type": "code",
      "source": [
        "!pip install pandas\n"
      ],
      "metadata": {
        "colab": {
          "base_uri": "https://localhost:8080/"
        },
        "id": "wnlo_YsSJ_ss",
        "outputId": "ecf7969a-c4b7-46ec-99a9-c9d1bf4edb88"
      },
      "execution_count": 1,
      "outputs": [
        {
          "output_type": "stream",
          "name": "stdout",
          "text": [
            "Looking in indexes: https://pypi.org/simple, https://us-python.pkg.dev/colab-wheels/public/simple/\n",
            "Requirement already satisfied: pandas in /usr/local/lib/python3.8/dist-packages (1.3.5)\n",
            "Requirement already satisfied: pytz>=2017.3 in /usr/local/lib/python3.8/dist-packages (from pandas) (2022.7)\n",
            "Requirement already satisfied: python-dateutil>=2.7.3 in /usr/local/lib/python3.8/dist-packages (from pandas) (2.8.2)\n",
            "Requirement already satisfied: numpy>=1.17.3 in /usr/local/lib/python3.8/dist-packages (from pandas) (1.21.6)\n",
            "Requirement already satisfied: six>=1.5 in /usr/local/lib/python3.8/dist-packages (from python-dateutil>=2.7.3->pandas) (1.15.0)\n"
          ]
        }
      ]
    },
    {
      "cell_type": "code",
      "source": [
        "import numpy as np\n",
        "import pandas as pd\n",
        "\n",
        "\n",
        "mat = np.random.rand(20, 5)\n",
        "\n",
        "mat = 1 + mat\n",
        "\n",
        "df = pd.DataFrame(mat, columns = ['a','b','c', 'd', 'e'])\n",
        "\n",
        "z = pd.DataFrame(df.std())\n",
        "z[\"Column\"] = z.index\n",
        "print(\"The Column with the Highest Standard Deviation is: \" + z.loc[z[0].idxmax()][\"Column\"])\n",
        "\n",
        "df['mean'] = df.mean(axis=1)\n",
        "df['index'] = df.index\n",
        "print(\"The Row with the Lowest Mean is: \" + str(df.loc[df[\"mean\"].idxmin()][\"index\"]))"
      ],
      "metadata": {
        "colab": {
          "base_uri": "https://localhost:8080/"
        },
        "id": "vIuxUG9E_HdE",
        "outputId": "3ff54207-09d2-4040-b38b-a9de18a0e1e9"
      },
      "execution_count": 2,
      "outputs": [
        {
          "output_type": "stream",
          "name": "stdout",
          "text": [
            "The Column with the Highest Standard Deviation is -> e\n",
            "The Row with the Lowest Mean is -> 1.0\n"
          ]
        }
      ]
    },
    {
      "cell_type": "markdown",
      "source": [
        "11."
      ],
      "metadata": {
        "id": "Xv6Mn8gV_Nky"
      }
    },
    {
      "cell_type": "code",
      "source": [
        "df = df[['a','b','c', 'd', 'e']]\n",
        "df['f'] = df.sum(axis=1)\n",
        "df['g'] = df['f'].apply(lambda x: (\"LT8\" if x < 8 else \"GT8\"))\n",
        "df"
      ],
      "metadata": {
        "colab": {
          "base_uri": "https://localhost:8080/",
          "height": 780
        },
        "id": "w4zev_Sx_Os_",
        "outputId": "8d3064f5-23a7-41e7-911a-d4cfb17aa44a"
      },
      "execution_count": 3,
      "outputs": [
        {
          "output_type": "stream",
          "name": "stderr",
          "text": [
            "<ipython-input-3-9bb324199fb5>:2: SettingWithCopyWarning: \n",
            "A value is trying to be set on a copy of a slice from a DataFrame.\n",
            "Try using .loc[row_indexer,col_indexer] = value instead\n",
            "\n",
            "See the caveats in the documentation: https://pandas.pydata.org/pandas-docs/stable/user_guide/indexing.html#returning-a-view-versus-a-copy\n",
            "  df['f'] = df.sum(axis=1)\n"
          ]
        },
        {
          "output_type": "execute_result",
          "data": {
            "text/plain": [
              "           a         b         c         d         e         f    g\n",
              "0   1.819805  1.901298  1.989550  1.056672  1.745043  8.512367  GT8\n",
              "1   1.144324  1.313885  1.270798  1.218184  1.232347  6.179538  LT8\n",
              "2   1.590610  1.125730  1.510874  1.163834  1.151069  6.542115  LT8\n",
              "3   1.591272  1.582510  1.090850  1.187691  1.444191  6.896515  LT8\n",
              "4   1.557163  1.572566  1.477048  1.561156  1.198615  7.366548  LT8\n",
              "5   1.281842  1.305385  1.919296  1.292376  1.788091  7.586991  LT8\n",
              "6   1.881096  1.844826  1.905773  1.024121  1.046949  7.702765  LT8\n",
              "7   1.327609  1.443219  1.995973  1.889516  1.953683  8.609999  GT8\n",
              "8   1.257572  1.688653  1.723323  1.763630  1.290248  7.723426  LT8\n",
              "9   1.823062  1.159647  1.127298  1.440411  1.017355  6.567773  LT8\n",
              "10  1.732572  1.018815  1.520667  1.902088  1.601862  7.776004  LT8\n",
              "11  1.435600  1.966716  1.377961  1.137375  1.816488  7.734141  LT8\n",
              "12  1.692232  1.056025  1.647205  1.903129  1.976328  8.274919  GT8\n",
              "13  1.059061  1.770860  1.851247  1.890423  1.407408  7.978999  LT8\n",
              "14  1.852960  1.905891  1.037660  1.358469  1.099230  7.254209  LT8\n",
              "15  1.907174  1.961752  1.702879  1.338622  1.563189  8.473616  GT8\n",
              "16  1.787818  1.470354  1.453308  1.303325  1.855187  7.869992  LT8\n",
              "17  1.463897  1.939354  1.863224  1.234055  1.878297  8.378827  GT8\n",
              "18  1.704110  1.550735  1.383580  1.579985  1.531979  7.750389  LT8\n",
              "19  1.151247  1.583702  1.574625  1.873976  1.802182  7.985732  LT8"
            ],
            "text/html": [
              "\n",
              "  <div id=\"df-27b31691-f859-4213-8a91-f8b9fde82e45\">\n",
              "    <div class=\"colab-df-container\">\n",
              "      <div>\n",
              "<style scoped>\n",
              "    .dataframe tbody tr th:only-of-type {\n",
              "        vertical-align: middle;\n",
              "    }\n",
              "\n",
              "    .dataframe tbody tr th {\n",
              "        vertical-align: top;\n",
              "    }\n",
              "\n",
              "    .dataframe thead th {\n",
              "        text-align: right;\n",
              "    }\n",
              "</style>\n",
              "<table border=\"1\" class=\"dataframe\">\n",
              "  <thead>\n",
              "    <tr style=\"text-align: right;\">\n",
              "      <th></th>\n",
              "      <th>a</th>\n",
              "      <th>b</th>\n",
              "      <th>c</th>\n",
              "      <th>d</th>\n",
              "      <th>e</th>\n",
              "      <th>f</th>\n",
              "      <th>g</th>\n",
              "    </tr>\n",
              "  </thead>\n",
              "  <tbody>\n",
              "    <tr>\n",
              "      <th>0</th>\n",
              "      <td>1.819805</td>\n",
              "      <td>1.901298</td>\n",
              "      <td>1.989550</td>\n",
              "      <td>1.056672</td>\n",
              "      <td>1.745043</td>\n",
              "      <td>8.512367</td>\n",
              "      <td>GT8</td>\n",
              "    </tr>\n",
              "    <tr>\n",
              "      <th>1</th>\n",
              "      <td>1.144324</td>\n",
              "      <td>1.313885</td>\n",
              "      <td>1.270798</td>\n",
              "      <td>1.218184</td>\n",
              "      <td>1.232347</td>\n",
              "      <td>6.179538</td>\n",
              "      <td>LT8</td>\n",
              "    </tr>\n",
              "    <tr>\n",
              "      <th>2</th>\n",
              "      <td>1.590610</td>\n",
              "      <td>1.125730</td>\n",
              "      <td>1.510874</td>\n",
              "      <td>1.163834</td>\n",
              "      <td>1.151069</td>\n",
              "      <td>6.542115</td>\n",
              "      <td>LT8</td>\n",
              "    </tr>\n",
              "    <tr>\n",
              "      <th>3</th>\n",
              "      <td>1.591272</td>\n",
              "      <td>1.582510</td>\n",
              "      <td>1.090850</td>\n",
              "      <td>1.187691</td>\n",
              "      <td>1.444191</td>\n",
              "      <td>6.896515</td>\n",
              "      <td>LT8</td>\n",
              "    </tr>\n",
              "    <tr>\n",
              "      <th>4</th>\n",
              "      <td>1.557163</td>\n",
              "      <td>1.572566</td>\n",
              "      <td>1.477048</td>\n",
              "      <td>1.561156</td>\n",
              "      <td>1.198615</td>\n",
              "      <td>7.366548</td>\n",
              "      <td>LT8</td>\n",
              "    </tr>\n",
              "    <tr>\n",
              "      <th>5</th>\n",
              "      <td>1.281842</td>\n",
              "      <td>1.305385</td>\n",
              "      <td>1.919296</td>\n",
              "      <td>1.292376</td>\n",
              "      <td>1.788091</td>\n",
              "      <td>7.586991</td>\n",
              "      <td>LT8</td>\n",
              "    </tr>\n",
              "    <tr>\n",
              "      <th>6</th>\n",
              "      <td>1.881096</td>\n",
              "      <td>1.844826</td>\n",
              "      <td>1.905773</td>\n",
              "      <td>1.024121</td>\n",
              "      <td>1.046949</td>\n",
              "      <td>7.702765</td>\n",
              "      <td>LT8</td>\n",
              "    </tr>\n",
              "    <tr>\n",
              "      <th>7</th>\n",
              "      <td>1.327609</td>\n",
              "      <td>1.443219</td>\n",
              "      <td>1.995973</td>\n",
              "      <td>1.889516</td>\n",
              "      <td>1.953683</td>\n",
              "      <td>8.609999</td>\n",
              "      <td>GT8</td>\n",
              "    </tr>\n",
              "    <tr>\n",
              "      <th>8</th>\n",
              "      <td>1.257572</td>\n",
              "      <td>1.688653</td>\n",
              "      <td>1.723323</td>\n",
              "      <td>1.763630</td>\n",
              "      <td>1.290248</td>\n",
              "      <td>7.723426</td>\n",
              "      <td>LT8</td>\n",
              "    </tr>\n",
              "    <tr>\n",
              "      <th>9</th>\n",
              "      <td>1.823062</td>\n",
              "      <td>1.159647</td>\n",
              "      <td>1.127298</td>\n",
              "      <td>1.440411</td>\n",
              "      <td>1.017355</td>\n",
              "      <td>6.567773</td>\n",
              "      <td>LT8</td>\n",
              "    </tr>\n",
              "    <tr>\n",
              "      <th>10</th>\n",
              "      <td>1.732572</td>\n",
              "      <td>1.018815</td>\n",
              "      <td>1.520667</td>\n",
              "      <td>1.902088</td>\n",
              "      <td>1.601862</td>\n",
              "      <td>7.776004</td>\n",
              "      <td>LT8</td>\n",
              "    </tr>\n",
              "    <tr>\n",
              "      <th>11</th>\n",
              "      <td>1.435600</td>\n",
              "      <td>1.966716</td>\n",
              "      <td>1.377961</td>\n",
              "      <td>1.137375</td>\n",
              "      <td>1.816488</td>\n",
              "      <td>7.734141</td>\n",
              "      <td>LT8</td>\n",
              "    </tr>\n",
              "    <tr>\n",
              "      <th>12</th>\n",
              "      <td>1.692232</td>\n",
              "      <td>1.056025</td>\n",
              "      <td>1.647205</td>\n",
              "      <td>1.903129</td>\n",
              "      <td>1.976328</td>\n",
              "      <td>8.274919</td>\n",
              "      <td>GT8</td>\n",
              "    </tr>\n",
              "    <tr>\n",
              "      <th>13</th>\n",
              "      <td>1.059061</td>\n",
              "      <td>1.770860</td>\n",
              "      <td>1.851247</td>\n",
              "      <td>1.890423</td>\n",
              "      <td>1.407408</td>\n",
              "      <td>7.978999</td>\n",
              "      <td>LT8</td>\n",
              "    </tr>\n",
              "    <tr>\n",
              "      <th>14</th>\n",
              "      <td>1.852960</td>\n",
              "      <td>1.905891</td>\n",
              "      <td>1.037660</td>\n",
              "      <td>1.358469</td>\n",
              "      <td>1.099230</td>\n",
              "      <td>7.254209</td>\n",
              "      <td>LT8</td>\n",
              "    </tr>\n",
              "    <tr>\n",
              "      <th>15</th>\n",
              "      <td>1.907174</td>\n",
              "      <td>1.961752</td>\n",
              "      <td>1.702879</td>\n",
              "      <td>1.338622</td>\n",
              "      <td>1.563189</td>\n",
              "      <td>8.473616</td>\n",
              "      <td>GT8</td>\n",
              "    </tr>\n",
              "    <tr>\n",
              "      <th>16</th>\n",
              "      <td>1.787818</td>\n",
              "      <td>1.470354</td>\n",
              "      <td>1.453308</td>\n",
              "      <td>1.303325</td>\n",
              "      <td>1.855187</td>\n",
              "      <td>7.869992</td>\n",
              "      <td>LT8</td>\n",
              "    </tr>\n",
              "    <tr>\n",
              "      <th>17</th>\n",
              "      <td>1.463897</td>\n",
              "      <td>1.939354</td>\n",
              "      <td>1.863224</td>\n",
              "      <td>1.234055</td>\n",
              "      <td>1.878297</td>\n",
              "      <td>8.378827</td>\n",
              "      <td>GT8</td>\n",
              "    </tr>\n",
              "    <tr>\n",
              "      <th>18</th>\n",
              "      <td>1.704110</td>\n",
              "      <td>1.550735</td>\n",
              "      <td>1.383580</td>\n",
              "      <td>1.579985</td>\n",
              "      <td>1.531979</td>\n",
              "      <td>7.750389</td>\n",
              "      <td>LT8</td>\n",
              "    </tr>\n",
              "    <tr>\n",
              "      <th>19</th>\n",
              "      <td>1.151247</td>\n",
              "      <td>1.583702</td>\n",
              "      <td>1.574625</td>\n",
              "      <td>1.873976</td>\n",
              "      <td>1.802182</td>\n",
              "      <td>7.985732</td>\n",
              "      <td>LT8</td>\n",
              "    </tr>\n",
              "  </tbody>\n",
              "</table>\n",
              "</div>\n",
              "      <button class=\"colab-df-convert\" onclick=\"convertToInteractive('df-27b31691-f859-4213-8a91-f8b9fde82e45')\"\n",
              "              title=\"Convert this dataframe to an interactive table.\"\n",
              "              style=\"display:none;\">\n",
              "        \n",
              "  <svg xmlns=\"http://www.w3.org/2000/svg\" height=\"24px\"viewBox=\"0 0 24 24\"\n",
              "       width=\"24px\">\n",
              "    <path d=\"M0 0h24v24H0V0z\" fill=\"none\"/>\n",
              "    <path d=\"M18.56 5.44l.94 2.06.94-2.06 2.06-.94-2.06-.94-.94-2.06-.94 2.06-2.06.94zm-11 1L8.5 8.5l.94-2.06 2.06-.94-2.06-.94L8.5 2.5l-.94 2.06-2.06.94zm10 10l.94 2.06.94-2.06 2.06-.94-2.06-.94-.94-2.06-.94 2.06-2.06.94z\"/><path d=\"M17.41 7.96l-1.37-1.37c-.4-.4-.92-.59-1.43-.59-.52 0-1.04.2-1.43.59L10.3 9.45l-7.72 7.72c-.78.78-.78 2.05 0 2.83L4 21.41c.39.39.9.59 1.41.59.51 0 1.02-.2 1.41-.59l7.78-7.78 2.81-2.81c.8-.78.8-2.07 0-2.86zM5.41 20L4 18.59l7.72-7.72 1.47 1.35L5.41 20z\"/>\n",
              "  </svg>\n",
              "      </button>\n",
              "      \n",
              "  <style>\n",
              "    .colab-df-container {\n",
              "      display:flex;\n",
              "      flex-wrap:wrap;\n",
              "      gap: 12px;\n",
              "    }\n",
              "\n",
              "    .colab-df-convert {\n",
              "      background-color: #E8F0FE;\n",
              "      border: none;\n",
              "      border-radius: 50%;\n",
              "      cursor: pointer;\n",
              "      display: none;\n",
              "      fill: #1967D2;\n",
              "      height: 32px;\n",
              "      padding: 0 0 0 0;\n",
              "      width: 32px;\n",
              "    }\n",
              "\n",
              "    .colab-df-convert:hover {\n",
              "      background-color: #E2EBFA;\n",
              "      box-shadow: 0px 1px 2px rgba(60, 64, 67, 0.3), 0px 1px 3px 1px rgba(60, 64, 67, 0.15);\n",
              "      fill: #174EA6;\n",
              "    }\n",
              "\n",
              "    [theme=dark] .colab-df-convert {\n",
              "      background-color: #3B4455;\n",
              "      fill: #D2E3FC;\n",
              "    }\n",
              "\n",
              "    [theme=dark] .colab-df-convert:hover {\n",
              "      background-color: #434B5C;\n",
              "      box-shadow: 0px 1px 3px 1px rgba(0, 0, 0, 0.15);\n",
              "      filter: drop-shadow(0px 1px 2px rgba(0, 0, 0, 0.3));\n",
              "      fill: #FFFFFF;\n",
              "    }\n",
              "  </style>\n",
              "\n",
              "      <script>\n",
              "        const buttonEl =\n",
              "          document.querySelector('#df-27b31691-f859-4213-8a91-f8b9fde82e45 button.colab-df-convert');\n",
              "        buttonEl.style.display =\n",
              "          google.colab.kernel.accessAllowed ? 'block' : 'none';\n",
              "\n",
              "        async function convertToInteractive(key) {\n",
              "          const element = document.querySelector('#df-27b31691-f859-4213-8a91-f8b9fde82e45');\n",
              "          const dataTable =\n",
              "            await google.colab.kernel.invokeFunction('convertToInteractive',\n",
              "                                                     [key], {});\n",
              "          if (!dataTable) return;\n",
              "\n",
              "          const docLinkHtml = 'Like what you see? Visit the ' +\n",
              "            '<a target=\"_blank\" href=https://colab.research.google.com/notebooks/data_table.ipynb>data table notebook</a>'\n",
              "            + ' to learn more about interactive tables.';\n",
              "          element.innerHTML = '';\n",
              "          dataTable['output_type'] = 'display_data';\n",
              "          await google.colab.output.renderOutput(dataTable, element);\n",
              "          const docLink = document.createElement('div');\n",
              "          docLink.innerHTML = docLinkHtml;\n",
              "          element.appendChild(docLink);\n",
              "        }\n",
              "      </script>\n",
              "    </div>\n",
              "  </div>\n",
              "  "
            ]
          },
          "metadata": {},
          "execution_count": 3
        }
      ]
    },
    {
      "cell_type": "markdown",
      "source": [
        "12."
      ],
      "metadata": {
        "id": "U6b7p1tQ_dvi"
      }
    },
    {
      "cell_type": "code",
      "source": [
        "import numpy as np\n",
        "a=np.array([1,2,3,4])\n",
        "b=np.array([4,3,2,1])\n",
        "print(a*b)"
      ],
      "metadata": {
        "colab": {
          "base_uri": "https://localhost:8080/"
        },
        "id": "cC3iY3h6_ej6",
        "outputId": "7d1a74c5-724c-4601-ac63-9bfaca3611d4"
      },
      "execution_count": 4,
      "outputs": [
        {
          "output_type": "stream",
          "name": "stdout",
          "text": [
            "[4 6 6 4]\n"
          ]
        }
      ]
    },
    {
      "cell_type": "markdown",
      "source": [
        "13. without Argmin"
      ],
      "metadata": {
        "id": "NmGUuIvz_irn"
      }
    },
    {
      "cell_type": "code",
      "source": [
        "import numpy as np\n",
        "array = []\n",
        "n = int(input(\"Size of array:\"))\n",
        "for i in range(n):\n",
        "    array.append(float(input(\"Element:\")))\n",
        "array = np.array(array)\n",
        "length = len(array)\n",
        "min = array[0]\n",
        "min_index = 0\n",
        "for i in range(1,length):\n",
        "    if array[i] < min:\n",
        "        min = array[i]\n",
        "        min_index= i\n",
        "print('Index of minimum vlaue is: {} and vlaue is {}'.format(min_index,min))"
      ],
      "metadata": {
        "colab": {
          "base_uri": "https://localhost:8080/"
        },
        "id": "2QJAJxRP_jqC",
        "outputId": "3f22bf89-a04f-459f-96f8-9c63ab9f476b"
      },
      "execution_count": 2,
      "outputs": [
        {
          "output_type": "stream",
          "name": "stdout",
          "text": [
            "Size of array:5\n",
            "Element:5\n",
            "Element:5\n",
            "Element:2\n",
            "Element:6\n",
            "Element:0\n",
            "Index of minimum vlaue is: 4 and vlaue is 0.0\n"
          ]
        }
      ]
    },
    {
      "cell_type": "markdown",
      "source": [
        "With Argmin"
      ],
      "metadata": {
        "id": "ednzMbMUP-_5"
      }
    },
    {
      "cell_type": "code",
      "source": [
        "import numpy as np\n",
        "array = []\n",
        "n = int(input(\"Size of array:\"))\n",
        "for i in range(n):\n",
        "    array.append(float(input(\"Element:\")))\n",
        "array = np.array(array)\n",
        "array1= np.argmin(array)\n",
        "print('Index of smallest element is:{}'.format(array1))"
      ],
      "metadata": {
        "colab": {
          "base_uri": "https://localhost:8080/"
        },
        "id": "JmmoM_dtQCmH",
        "outputId": "70360a0d-fb3b-4bd5-8868-47c499aac1f0"
      },
      "execution_count": 1,
      "outputs": [
        {
          "output_type": "stream",
          "name": "stdout",
          "text": [
            "Size of array:5\n",
            "Element:5\n",
            "Element:5\n",
            "Element:2\n",
            "Element:6\n",
            "Element:0\n",
            "Index of smallest element is:4\n"
          ]
        }
      ]
    }
  ]
}